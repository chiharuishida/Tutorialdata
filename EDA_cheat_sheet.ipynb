{
  "cells": [
    {
      "cell_type": "code",
      "execution_count": null,
      "metadata": {
        "id": "wPYqmvakWrYi"
      },
      "outputs": [],
      "source": [
        "import seaborn as sns\n",
        "import pandas as pd"
      ]
    },
    {
      "cell_type": "code",
      "execution_count": null,
      "metadata": {
        "id": "_D9cOhtxXGFZ"
      },
      "outputs": [],
      "source": [
        "tips=sns.load_dataset(\"tips\")\n",
        "#uploading a sample dataset that comes with Seaborn as our dataframe for this session\n",
        "#if you are using your own dataset (not the tips dataset), then refer to the instructions below\n",
        "#By the way, the line that begins with the number sign (#) is a memo, not an actual command\n",
        "#Here, tips is the dataframe name we are giving"
      ]
    },
    {
      "cell_type": "markdown",
      "metadata": {
        "id": "qJ62vR8R7xAc"
      },
      "source": [
        "###if you are using your own dataset (not the tips dataset), then import it here. Two ways:\n",
        "\n",
        "####option1 - from URL\n",
        "\n",
        "import pandas as pd\n",
        "url = \"URLofYOURcsvfileLOCATION\"\n",
        "DFname = pd.read_csv(url)\n",
        "\n",
        "####option2 - from a manual upload\n",
        "\n",
        "*Run the following two lines:*\n",
        "\n",
        "from google.colab import files\n",
        "\n",
        "uploaded = files.upload()\n",
        "\n",
        "*in the next block of code run the followings:*\n",
        "\n",
        "import pandas as pd\n",
        "\n",
        "import io\n",
        "\n",
        "DFname=pd.read_csv(io.BytesIO(uploaded['YOURcsvFILEname.csv']))"
      ]
    },
    {
      "cell_type": "code",
      "execution_count": null,
      "metadata": {
        "id": "k5LZjOfQXQ-Z"
      },
      "outputs": [],
      "source": [
        "tips.head(10)\n",
        "#provides the first 10 raw of data. this provides a quick view of the dataset titled \"tips\""
      ]
    },
    {
      "cell_type": "code",
      "execution_count": null,
      "metadata": {
        "id": "ob4i1qVCXl3R"
      },
      "outputs": [],
      "source": [
        "tips.describe()\n",
        "#quickly provides a descriptive statistics for all the continous variables in the dataset"
      ]
    },
    {
      "cell_type": "code",
      "execution_count": null,
      "metadata": {
        "id": "b_TFjbc3X3UY"
      },
      "outputs": [],
      "source": [
        "tips.info()\n",
        "#provides information about each variable in the dataset. Dtype of float is a number with a decimal place, while int is for integers"
      ]
    },
    {
      "cell_type": "code",
      "execution_count": null,
      "metadata": {
        "id": "AM-7MBS4XUzw"
      },
      "outputs": [],
      "source": [
        "tips['day'].value_counts()\n",
        "#\"day\" is a categorical variable in our data"
      ]
    },
    {
      "cell_type": "code",
      "execution_count": null,
      "metadata": {
        "id": "BspbwAMqYM2v"
      },
      "outputs": [],
      "source": [
        "tips.corr(numeric_only = True)\n",
        "#quickly provides a correlation matrix"
      ]
    },
    {
      "cell_type": "code",
      "execution_count": null,
      "metadata": {
        "id": "llLymGFhS2HB"
      },
      "outputs": [],
      "source": [
        "sns.heatmap(tips.corr(numeric_only = True), annot=True)\n",
        "#annot=True adds an annotation to the right"
      ]
    },
    {
      "cell_type": "code",
      "execution_count": null,
      "metadata": {
        "id": "0GH8aL4LAMIl"
      },
      "outputs": [],
      "source": [
        "sns.heatmap(tips.corr(), cmap=\"YlGnBu\")\n",
        "#just changing colors here for better looks (darker=greater value)\n",
        "#other colormap options are 'Greys', 'Purples', 'Blues', 'Greens', 'Oranges', 'Reds','YlOrBr', 'YlOrRd', 'OrRd', 'PuRd', 'RdPu', 'BuPu','GnBu', 'PuBu', 'YlGnBu', 'PuBuGn', 'BuGn', 'YlGn'"
      ]
    },
    {
      "cell_type": "code",
      "execution_count": null,
      "metadata": {
        "id": "Kq22In7EYdIJ"
      },
      "outputs": [],
      "source": [
        "sns.pairplot(tips)\n",
        "#quickly provides pairplot between the continous varialbles."
      ]
    },
    {
      "cell_type": "code",
      "execution_count": null,
      "metadata": {
        "id": "Zn6rIAs1Ygmn"
      },
      "outputs": [],
      "source": [
        "sns.scatterplot(x=\"tip\", y=\"total_bill\", data=tips)\n",
        "#let's just look at the scatterplot between \"top\" and \"total_bill\"\n",
        "#A scatterplot is for any two continuous variables"
      ]
    },
    {
      "cell_type": "code",
      "execution_count": null,
      "metadata": {
        "id": "l4OcNRheYuon"
      },
      "outputs": [],
      "source": [
        "sns.lmplot(x = \"tip\", y = \"total_bill\", data = tips)\n",
        "#fitting a trendline"
      ]
    },
    {
      "cell_type": "code",
      "execution_count": null,
      "metadata": {
        "id": "Ec5nnuZjZOJx"
      },
      "outputs": [],
      "source": [
        "sns.scatterplot(x=\"tip\", y=\"total_bill\", hue=\"smoker\", data=tips)\n",
        "#adding color-coding by smoker-nonsmoker by adding the hue statement"
      ]
    },
    {
      "cell_type": "code",
      "execution_count": null,
      "metadata": {
        "id": "SKu76IC8ZbCg"
      },
      "outputs": [],
      "source": [
        "sns.lmplot(x = \"tip\", y = \"total_bill\", hue=\"smoker\", data = tips)\n",
        "#Fitting lines for the two smoker categories"
      ]
    },
    {
      "cell_type": "code",
      "execution_count": null,
      "metadata": {
        "id": "eAphiTRSZlvQ"
      },
      "outputs": [],
      "source": [
        "sns.countplot(x='day', data=tips)\n",
        "#barchart sorted by \"day\" which is a categorical variable"
      ]
    },
    {
      "cell_type": "code",
      "execution_count": null,
      "metadata": {
        "id": "Tb-QMdu3Zv2I"
      },
      "outputs": [],
      "source": [
        "sns.countplot(x='day', data=tips, color='b')\n",
        "#changing color to all red by adding \"color='r'\""
      ]
    },
    {
      "cell_type": "code",
      "execution_count": null,
      "metadata": {
        "id": "Z4wACNMzZ5wz"
      },
      "outputs": [],
      "source": [
        "tips_day=tips.groupby(\"day\")\n",
        "tips_day.mean()\n",
        "#groupby() is used to split the data in dataframe into groups (\"tips_day\" is created as a new dataframe)\n",
        "#\"day\" is a categorical variable"
      ]
    },
    {
      "cell_type": "code",
      "execution_count": null,
      "metadata": {
        "id": "yp8__HdvaFhw"
      },
      "outputs": [],
      "source": [
        "sns.boxplot(x=\"day\", y=\"tip\", data=tips)\n",
        "#quickly creating boxplots. Here, \"day\" is a categorical variable\" and \"tip\" is a continuous variable"
      ]
    },
    {
      "cell_type": "code",
      "execution_count": null,
      "metadata": {
        "id": "hADyWCwHZ7OY"
      },
      "outputs": [],
      "source": [
        "sns.boxplot(x=\"day\", y=\"tip\", hue=\"smoker\", data=tips)\n",
        "#adding a color code by using hue. In this case, we are using the \"smoker\" variable, which is a categorical variable"
      ]
    },
    {
      "cell_type": "code",
      "execution_count": null,
      "metadata": {
        "id": "VyvwCpDwaYdp"
      },
      "outputs": [],
      "source": [
        "tips_top3_tips = tips.nlargest(3, \"tip\")\n",
        "tips_top3_tips\n",
        "#.nlargest()is a method to quickly get TopN results for the continous variable of \"tip\". It will list the top 3 tippers. For this analysis, select a continuous variable"
      ]
    }
  ],
  "metadata": {
    "colab": {
      "provenance": []
    },
    "kernelspec": {
      "display_name": "Python 3",
      "language": "python",
      "name": "python3"
    },
    "language_info": {
      "codemirror_mode": {
        "name": "ipython",
        "version": 3
      },
      "file_extension": ".py",
      "mimetype": "text/x-python",
      "name": "python",
      "nbconvert_exporter": "python",
      "pygments_lexer": "ipython3",
      "version": "3.8.8"
    }
  },
  "nbformat": 4,
  "nbformat_minor": 0
}