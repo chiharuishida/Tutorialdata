{
  "cells": [
    {
      "cell_type": "markdown",
      "metadata": {
        "id": "view-in-github",
        "colab_type": "text"
      },
      "source": [
        "<a href=\"https://colab.research.google.com/github/chiharuishida/Tutorialdata/blob/main/AutoGluon_tabulardata.ipynb\" target=\"_parent\"><img src=\"https://colab.research.google.com/assets/colab-badge.svg\" alt=\"Open In Colab\"/></a>"
      ]
    },
    {
      "cell_type": "markdown",
      "metadata": {
        "id": "fPg62-WcAR_X"
      },
      "source": [
        "# AutoGluon Tabular - Quick Start\n",
        "\n",
        "In this tutorial, we will see how to use AutoGluon's `TabularPredictor` to predict the values of a target column based on the other columns in a tabular dataset.\n",
        "\n",
        "Begin by making sure AutoGluon is installed, and then import AutoGluon's `TabularDataset` and `TabularPredictor`. We will use the former to load data and the latter to train models and make predictions."
      ],
      "id": "fPg62-WcAR_X"
    },
    {
      "cell_type": "code",
      "execution_count": null,
      "metadata": {
        "tags": [
          "hide-output"
        ],
        "id": "pThWgnBqAR_Z"
      },
      "outputs": [],
      "source": [
        "pip install autogluon"
      ],
      "id": "pThWgnBqAR_Z"
    },
    {
      "cell_type": "code",
      "execution_count": 1,
      "metadata": {
        "id": "5WQdJPhRAR_a"
      },
      "outputs": [],
      "source": [
        "from autogluon.tabular import TabularDataset, TabularPredictor"
      ],
      "id": "5WQdJPhRAR_a"
    },
    {
      "cell_type": "markdown",
      "metadata": {
        "id": "opo8EdDeAR_b"
      },
      "source": [
        "## Example Data"
      ],
      "id": "opo8EdDeAR_b"
    },
    {
      "cell_type": "markdown",
      "metadata": {
        "id": "dHPj5GDEAR_b"
      },
      "source": [
        "For this tutorial we will use a dataset from the cover story of [Nature issue 7887](https://www.nature.com/nature/volumes/600/issues/7887): [AI-guided intuition for math theorems](https://www.nature.com/articles/s41586-021-04086-x.pdf). The goal is to predict a knot's signature based on its properties. We sampled 10K training and 5K test examples from the [original data](https://github.com/deepmind/mathematics_conjectures/blob/main/knot_theory.ipynb). The sampled dataset make this tutorial run quickly, but AutoGluon can handle the full dataset if desired.\n",
        "\n",
        "We load this dataset directly from a URL. AutoGluon's `TabularDataset` is a subclass of pandas [DataFrame](https://pandas.pydata.org/docs/reference/api/pandas.DataFrame.html), so any `DataFrame` methods can be used on `TabularDataset` as well."
      ],
      "id": "dHPj5GDEAR_b"
    },
    {
      "cell_type": "code",
      "execution_count": null,
      "metadata": {
        "id": "WEbze2ERAR_b"
      },
      "outputs": [],
      "source": [
        "data_url = 'https://raw.githubusercontent.com/mli/ag-docs/main/knot_theory/'\n",
        "train_data = TabularDataset(f'{data_url}train.csv')\n",
        "train_data.head()"
      ],
      "id": "WEbze2ERAR_b"
    },
    {
      "cell_type": "markdown",
      "metadata": {
        "id": "dILlaui4AR_b"
      },
      "source": [
        "Our targets are stored in the \"signature\" column, which has 18 unique integers. Even though pandas didn't correctly recognize this data type as categorical, AutoGluon will fix this issue.\n"
      ],
      "id": "dILlaui4AR_b"
    },
    {
      "cell_type": "code",
      "execution_count": null,
      "metadata": {
        "id": "e_omx2eaAR_c"
      },
      "outputs": [],
      "source": [
        "label = 'signature'\n",
        "train_data[label].describe()"
      ],
      "id": "e_omx2eaAR_c"
    },
    {
      "cell_type": "markdown",
      "metadata": {
        "id": "9CgbdP06AR_c"
      },
      "source": [
        "## Training\n",
        "\n",
        "We now construct a `TabularPredictor` by specifying the label column name and then train on the dataset with `TabularPredictor.fit()`. We don't need to specify any other parameters. AutoGluon will recognize this is a multi-class classification task, perform automatic feature engineering, train multiple models, and then ensemble the models to create the final predictor."
      ],
      "id": "9CgbdP06AR_c"
    },
    {
      "cell_type": "code",
      "execution_count": null,
      "metadata": {
        "tags": [
          "hide-output"
        ],
        "id": "sUWZcHbqAR_c"
      },
      "outputs": [],
      "source": [
        "predictor = TabularPredictor(label=label).fit(train_data)"
      ],
      "id": "sUWZcHbqAR_c"
    },
    {
      "cell_type": "markdown",
      "metadata": {
        "id": "bNwqkBnBAR_c"
      },
      "source": [
        "Model fitting should take a few minutes or less depending on your CPU. You can make training faster by specifying the `time_limit` argument. For example, `fit(..., time_limit=60)` will stop training after 60 seconds. Higher time limits will generally result in better prediction performance, and excessively low time limits will prevent AutoGluon from training and ensembling a reasonable set of models.\n",
        "\n"
      ],
      "id": "bNwqkBnBAR_c"
    },
    {
      "cell_type": "markdown",
      "metadata": {
        "id": "R1T6Vf_YAR_c"
      },
      "source": [
        "## Prediction\n",
        "\n",
        "Once we have a predictor that is fit on the training dataset, we can load a separate set of data to use for prediction and evaulation."
      ],
      "id": "R1T6Vf_YAR_c"
    },
    {
      "cell_type": "code",
      "execution_count": null,
      "metadata": {
        "id": "xSopgS-9AR_c"
      },
      "outputs": [],
      "source": [
        "test_data = TabularDataset(f'{data_url}test.csv')\n",
        "\n",
        "y_pred = predictor.predict(test_data.drop(columns=[label]))\n",
        "y_pred.head()"
      ],
      "id": "xSopgS-9AR_c"
    },
    {
      "cell_type": "markdown",
      "metadata": {
        "id": "Ub0nB-c_AR_d"
      },
      "source": [
        "## Evaluation\n",
        "\n",
        "We can evaluate the predictor on the test dataset using the `evaluate()` function, which measures how well our predictor performs on data that was not used for fitting the models."
      ],
      "id": "Ub0nB-c_AR_d"
    },
    {
      "cell_type": "code",
      "execution_count": null,
      "metadata": {
        "id": "8zksGb_SAR_d"
      },
      "outputs": [],
      "source": [
        "predictor.evaluate(test_data, silent=True)"
      ],
      "id": "8zksGb_SAR_d"
    },
    {
      "cell_type": "markdown",
      "metadata": {
        "id": "bf94qhRjAR_d"
      },
      "source": [
        "AutoGluon's `TabularPredictor` also provides the `leaderboard()` function, which allows us to evaluate the performance of each individual trained model on the test data."
      ],
      "id": "bf94qhRjAR_d"
    },
    {
      "cell_type": "code",
      "execution_count": null,
      "metadata": {
        "id": "KyZCVCAWAR_d"
      },
      "outputs": [],
      "source": [
        "predictor.leaderboard(test_data)"
      ],
      "id": "KyZCVCAWAR_d"
    },
    {
      "cell_type": "markdown",
      "metadata": {
        "id": "I-da0PXvpD96"
      },
      "source": [
        "## Conclusion\n",
        "\n",
        "In this quickstart tutorial we saw AutoGluon's basic fit and predict functionality using `TabularDataset` and `TabularPredictor`. AutoGluon simplifies the model training process by not requiring feature engineering or model hyperparameter tuning. Check out the in-depth tutorials to learn more about AutoGluon's other features like customizing the training and prediction steps or extending AutoGluon with custom feature generators, models, or metrics."
      ],
      "id": "I-da0PXvpD96"
    }
  ],
  "metadata": {
    "language_info": {
      "name": "python"
    },
    "colab": {
      "provenance": [],
      "include_colab_link": true
    },
    "kernelspec": {
      "name": "python3",
      "display_name": "Python 3"
    }
  },
  "nbformat": 4,
  "nbformat_minor": 5
}