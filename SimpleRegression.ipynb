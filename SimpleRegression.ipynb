{
  "nbformat": 4,
  "nbformat_minor": 0,
  "metadata": {
    "colab": {
      "provenance": [],
      "authorship_tag": "ABX9TyPWqWmV2jGQzO0CayMh2h7F",
      "include_colab_link": true
    },
    "kernelspec": {
      "name": "python3",
      "display_name": "Python 3"
    },
    "language_info": {
      "name": "python"
    }
  },
  "cells": [
    {
      "cell_type": "markdown",
      "metadata": {
        "id": "view-in-github",
        "colab_type": "text"
      },
      "source": [
        "<a href=\"https://colab.research.google.com/github/chiharuishida/Tutorialdata/blob/main/SimpleRegression.ipynb\" target=\"_parent\"><img src=\"https://colab.research.google.com/assets/colab-badge.svg\" alt=\"Open In Colab\"/></a>"
      ]
    },
    {
      "cell_type": "code",
      "execution_count": 1,
      "metadata": {
        "id": "bBBXycQ2wpBz"
      },
      "outputs": [],
      "source": [
        "import pandas as pd\n",
        "from sklearn.linear_model import LinearRegression\n",
        "import statsmodels.api as sm\n",
        "\n",
        "# Load the data\n",
        "url=\"https://raw.githubusercontent.com/chiharuishida/Tutorialdata/main/Boston2.csv\"\n",
        "Boston = pd.read_csv(url)"
      ]
    },
    {
      "cell_type": "code",
      "source": [
        "Boston"
      ],
      "metadata": {
        "id": "ezpZfRYxxi6Y"
      },
      "execution_count": null,
      "outputs": []
    },
    {
      "cell_type": "code",
      "source": [
        "Boston.describe()\n",
        "\n"
      ],
      "metadata": {
        "id": "4akw3g_Zwxts"
      },
      "execution_count": null,
      "outputs": []
    },
    {
      "cell_type": "code",
      "source": [
        "# =============================================================================\n",
        "# In the Boston dataset, the first column did not have a header (hence 'Unnamed: 0')\n",
        "# #Note: axis=1 indicates columns. axis=0 indicates index (roughly the same as rows)\n",
        "# # we are using X to refer to predictor vairables, and Y to Target. Here we are including all\n",
        "# #columns/variables besides the 'unnamed' and 'medv'\n",
        "# =============================================================================\n",
        "\n",
        "x = Boston.drop(['Unnamed: 0', 'medianvalue'], axis=1)\n",
        "y = Boston['medianvalue']\n",
        "\n",
        "#alternative way of writing the X is:\n",
        "#x = dataset[['var1','var2','var3','var4']]\n",
        "#the drop function is good to know as well if you are entering lots of X variables\n",
        "#and just a couple excluded from the model. That way you don't have to write all the variable names\n",
        "\n"
      ],
      "metadata": {
        "id": "-fcuncUp2Gkm"
      },
      "execution_count": 11,
      "outputs": []
    },
    {
      "cell_type": "code",
      "source": [
        "# importing the model\n",
        "regressor = LinearRegression()\n",
        "\n",
        "model = sm.OLS(y, x).fit()\n",
        "## Inspect the results\n",
        "print(model.summary())"
      ],
      "metadata": {
        "id": "QcxfAv8i3OuY"
      },
      "execution_count": null,
      "outputs": []
    },
    {
      "cell_type": "markdown",
      "source": [
        "Since some features are not significant predictors, let's remove them from the model:"
      ],
      "metadata": {
        "id": "Fo7WF_A2V2er"
      }
    },
    {
      "cell_type": "code",
      "source": [
        "x = Boston.drop(['Unnamed: 0', 'medianvalue','industry', 'nitricoxidesconcentration', 'Proportionbefore1940' ], axis=1)"
      ],
      "metadata": {
        "id": "Ox9iS2wEV2IJ"
      },
      "execution_count": 12,
      "outputs": []
    },
    {
      "cell_type": "code",
      "source": [
        "model = sm.OLS(y, x).fit()\n",
        "## Inspect the results\n",
        "print(model.summary())"
      ],
      "metadata": {
        "id": "FMBlDfSaWWR7"
      },
      "execution_count": null,
      "outputs": []
    },
    {
      "cell_type": "markdown",
      "source": [
        "##Let's use the model we just built to predict a new house/neighborhood's median house value"
      ],
      "metadata": {
        "id": "ZizPGTe02Gal"
      }
    },
    {
      "cell_type": "code",
      "source": [
        "new_house = pd.DataFrame([[5, 12, 0, 8, 10, 12, 300, 18, 2]], columns = [\"crim\", \"zone\", \"River\", \"rooms\", \"distanceto5bostonemployments\", \"radialhighways\", \"propertytax\", \"pupil_teacher_ratio\", \"proportion_low_status_in_population\"])\n",
        "pred = model.predict(new_house)\n",
        "print(pred)"
      ],
      "metadata": {
        "id": "_KGJfZ0C3OjW"
      },
      "execution_count": null,
      "outputs": []
    }
  ]
}