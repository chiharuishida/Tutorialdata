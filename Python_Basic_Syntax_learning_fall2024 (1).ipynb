{
  "cells": [
    {
      "cell_type": "markdown",
      "source": [
        "# NUMBERS"
      ],
      "metadata": {
        "id": "8L0wjAF_bLFt"
      },
      "id": "8L0wjAF_bLFt"
    },
    {
      "cell_type": "code",
      "execution_count": null,
      "id": "e80c9799",
      "metadata": {
        "id": "e80c9799"
      },
      "outputs": [],
      "source": [
        "type(3)"
      ]
    },
    {
      "cell_type": "code",
      "execution_count": null,
      "id": "b9119080",
      "metadata": {
        "id": "b9119080"
      },
      "outputs": [],
      "source": [
        "type(3.14)"
      ]
    },
    {
      "cell_type": "code",
      "execution_count": null,
      "id": "e0cd522b",
      "metadata": {
        "id": "e0cd522b"
      },
      "outputs": [],
      "source": [
        "pi=3.14\n",
        "type (pi)"
      ]
    },
    {
      "cell_type": "code",
      "execution_count": null,
      "id": "b323794e",
      "metadata": {
        "id": "b323794e"
      },
      "outputs": [],
      "source": [
        "3+3"
      ]
    },
    {
      "cell_type": "code",
      "execution_count": null,
      "id": "b52fd62a",
      "metadata": {
        "id": "b52fd62a"
      },
      "outputs": [],
      "source": [
        "3-3"
      ]
    },
    {
      "cell_type": "code",
      "execution_count": null,
      "id": "7c86b3f3",
      "metadata": {
        "id": "7c86b3f3"
      },
      "outputs": [],
      "source": [
        "3/3"
      ]
    },
    {
      "cell_type": "code",
      "execution_count": null,
      "id": "76a9e070",
      "metadata": {
        "id": "76a9e070"
      },
      "outputs": [],
      "source": [
        "3*3"
      ]
    },
    {
      "cell_type": "code",
      "execution_count": null,
      "id": "0d809347",
      "metadata": {
        "id": "0d809347"
      },
      "outputs": [],
      "source": [
        "num=3\n",
        "num=num-1\n",
        "print(num)"
      ]
    },
    {
      "cell_type": "code",
      "execution_count": null,
      "id": "d465b280",
      "metadata": {
        "id": "d465b280"
      },
      "outputs": [],
      "source": [
        "num=num+10\n",
        "print(num)"
      ]
    },
    {
      "cell_type": "markdown",
      "source": [
        "# STRING"
      ],
      "metadata": {
        "id": "gdhe36k_bSdc"
      },
      "id": "gdhe36k_bSdc"
    },
    {
      "cell_type": "code",
      "execution_count": null,
      "id": "92794d3c",
      "metadata": {
        "id": "92794d3c"
      },
      "outputs": [],
      "source": [
        "a=\"I can’t do that\""
      ]
    },
    {
      "cell_type": "code",
      "execution_count": null,
      "id": "67aaf8ac",
      "metadata": {
        "id": "67aaf8ac"
      },
      "outputs": [],
      "source": [
        "a"
      ]
    },
    {
      "cell_type": "code",
      "execution_count": null,
      "id": "e5bbf7ee",
      "metadata": {
        "id": "e5bbf7ee"
      },
      "outputs": [],
      "source": [
        "b=\"He said \\\"no\\\" to me\""
      ]
    },
    {
      "cell_type": "code",
      "execution_count": null,
      "id": "ee887661",
      "metadata": {
        "id": "ee887661"
      },
      "outputs": [],
      "source": [
        "b"
      ]
    },
    {
      "cell_type": "code",
      "execution_count": null,
      "id": "57f53edc",
      "metadata": {
        "id": "57f53edc"
      },
      "outputs": [],
      "source": [
        "a=\"first\"\n",
        "b=\"last\"\n",
        "a+b"
      ]
    },
    {
      "cell_type": "code",
      "execution_count": null,
      "id": "c2f6166e",
      "metadata": {
        "id": "c2f6166e"
      },
      "outputs": [],
      "source": [
        "a=\"first \"\n",
        "a+b"
      ]
    },
    {
      "cell_type": "code",
      "execution_count": null,
      "id": "a86ab8dc",
      "metadata": {
        "id": "a86ab8dc"
      },
      "outputs": [],
      "source": [
        "w=\"woah!\""
      ]
    },
    {
      "cell_type": "code",
      "execution_count": null,
      "id": "6ed7a388",
      "metadata": {
        "id": "6ed7a388"
      },
      "outputs": [],
      "source": [
        "w.upper()"
      ]
    },
    {
      "cell_type": "code",
      "execution_count": null,
      "id": "acc055d5",
      "metadata": {
        "id": "acc055d5"
      },
      "outputs": [],
      "source": [
        "r=\"rule\"\n",
        "r.replace(\"r\",\"m\")"
      ]
    },
    {
      "cell_type": "code",
      "execution_count": null,
      "id": "061f8b0f",
      "metadata": {
        "id": "061f8b0f"
      },
      "outputs": [],
      "source": [
        "numbers=['1','2','1','2','2']\n",
        "numbers.count('2')"
      ]
    },
    {
      "cell_type": "code",
      "execution_count": null,
      "id": "e0b5a951",
      "metadata": {
        "id": "e0b5a951"
      },
      "outputs": [],
      "source": [
        "\"{0} is a lot of {1}\".format(\"Python\", \"fun!\")"
      ]
    },
    {
      "cell_type": "markdown",
      "source": [
        "# BOOLEAN"
      ],
      "metadata": {
        "id": "8vB-5SCIbZem"
      },
      "id": "8vB-5SCIbZem"
    },
    {
      "cell_type": "code",
      "execution_count": null,
      "id": "c313cf00",
      "metadata": {
        "id": "c313cf00"
      },
      "outputs": [],
      "source": [
        "10==10"
      ]
    },
    {
      "cell_type": "code",
      "execution_count": null,
      "id": "01952569",
      "metadata": {
        "id": "01952569"
      },
      "outputs": [],
      "source": [
        "10==11"
      ]
    },
    {
      "cell_type": "code",
      "execution_count": null,
      "id": "c3ae8db0",
      "metadata": {
        "id": "c3ae8db0"
      },
      "outputs": [],
      "source": [
        "\"jack\"==\"jack\""
      ]
    },
    {
      "cell_type": "code",
      "execution_count": null,
      "id": "a18e863e",
      "metadata": {
        "id": "a18e863e"
      },
      "outputs": [],
      "source": [
        "\"jack\"==\"jake\""
      ]
    },
    {
      "cell_type": "markdown",
      "source": [
        "# LISTS"
      ],
      "metadata": {
        "id": "BizZH1YHbjNJ"
      },
      "id": "BizZH1YHbjNJ"
    },
    {
      "cell_type": "code",
      "execution_count": null,
      "id": "73238740",
      "metadata": {
        "id": "73238740"
      },
      "outputs": [],
      "source": [
        "fruits = ['apple','lemon','orange','grape']"
      ]
    },
    {
      "cell_type": "code",
      "execution_count": null,
      "id": "f3b8023f",
      "metadata": {
        "id": "f3b8023f"
      },
      "outputs": [],
      "source": [
        "fruits"
      ]
    },
    {
      "cell_type": "code",
      "execution_count": null,
      "id": "89b10a45",
      "metadata": {
        "id": "89b10a45"
      },
      "outputs": [],
      "source": [
        "fruits[2]"
      ]
    },
    {
      "cell_type": "code",
      "execution_count": null,
      "id": "d546905f",
      "metadata": {
        "id": "d546905f"
      },
      "outputs": [],
      "source": [
        "fruits[-2]"
      ]
    },
    {
      "cell_type": "code",
      "execution_count": null,
      "id": "16c7baa7",
      "metadata": {
        "id": "16c7baa7"
      },
      "outputs": [],
      "source": [
        "len(fruits)"
      ]
    },
    {
      "cell_type": "code",
      "execution_count": null,
      "id": "4d2cbff7",
      "metadata": {
        "id": "4d2cbff7"
      },
      "outputs": [],
      "source": [
        "fruits.append('blueberry')"
      ]
    },
    {
      "cell_type": "code",
      "execution_count": null,
      "id": "d0544b5e",
      "metadata": {
        "id": "d0544b5e"
      },
      "outputs": [],
      "source": [
        "fruits"
      ]
    },
    {
      "cell_type": "code",
      "execution_count": null,
      "id": "ee88f092",
      "metadata": {
        "id": "ee88f092"
      },
      "outputs": [],
      "source": [
        "fruits.append('tomato')"
      ]
    },
    {
      "cell_type": "code",
      "execution_count": null,
      "id": "707060e1",
      "metadata": {
        "id": "707060e1"
      },
      "outputs": [],
      "source": [
        "fruits"
      ]
    },
    {
      "cell_type": "code",
      "execution_count": null,
      "id": "680d0224",
      "metadata": {
        "id": "680d0224"
      },
      "outputs": [],
      "source": [
        "fruits.pop()"
      ]
    },
    {
      "cell_type": "code",
      "execution_count": null,
      "id": "09b2a584",
      "metadata": {
        "id": "09b2a584"
      },
      "outputs": [],
      "source": [
        "fruits"
      ]
    },
    {
      "cell_type": "code",
      "execution_count": null,
      "id": "522f6c7e",
      "metadata": {
        "id": "522f6c7e"
      },
      "outputs": [],
      "source": [
        "'apple' in fruits"
      ]
    },
    {
      "cell_type": "code",
      "execution_count": null,
      "id": "0963286c",
      "metadata": {
        "id": "0963286c"
      },
      "outputs": [],
      "source": [
        "'tomato' in fruits"
      ]
    },
    {
      "cell_type": "markdown",
      "source": [],
      "metadata": {
        "id": "IM0pDTDLbwJp"
      },
      "id": "IM0pDTDLbwJp"
    },
    {
      "cell_type": "markdown",
      "source": [
        "# DICTIONARY"
      ],
      "metadata": {
        "id": "GW2lAJ5cbuKn"
      },
      "id": "GW2lAJ5cbuKn"
    },
    {
      "cell_type": "code",
      "execution_count": null,
      "id": "d5e17b3f",
      "metadata": {
        "id": "d5e17b3f"
      },
      "outputs": [],
      "source": [
        "words={'apple':'red','lemon':'yellow'}"
      ]
    },
    {
      "cell_type": "code",
      "execution_count": null,
      "id": "6e2495f4",
      "metadata": {
        "id": "6e2495f4"
      },
      "outputs": [],
      "source": [
        "words"
      ]
    },
    {
      "cell_type": "code",
      "execution_count": null,
      "id": "f7a9d6ae",
      "metadata": {
        "id": "f7a9d6ae"
      },
      "outputs": [],
      "source": [
        "words['apple']"
      ]
    },
    {
      "cell_type": "code",
      "execution_count": null,
      "id": "d66a15f9",
      "metadata": {
        "id": "d66a15f9"
      },
      "outputs": [],
      "source": [
        "words['lemon']"
      ]
    },
    {
      "cell_type": "code",
      "execution_count": null,
      "id": "2ed94d38",
      "metadata": {
        "id": "2ed94d38"
      },
      "outputs": [],
      "source": [
        "dict={'one':1,'two':2}"
      ]
    },
    {
      "cell_type": "code",
      "execution_count": null,
      "id": "90ad074e",
      "metadata": {
        "id": "90ad074e"
      },
      "outputs": [],
      "source": [
        "dict"
      ]
    },
    {
      "cell_type": "code",
      "execution_count": null,
      "id": "21147d27",
      "metadata": {
        "id": "21147d27"
      },
      "outputs": [],
      "source": [
        "words.keys()"
      ]
    },
    {
      "cell_type": "code",
      "execution_count": null,
      "id": "b508d1b6",
      "metadata": {
        "id": "b508d1b6"
      },
      "outputs": [],
      "source": [
        "words.values()"
      ]
    },
    {
      "cell_type": "markdown",
      "source": [
        "# IF, ELIF, WHILE LOOPS"
      ],
      "metadata": {
        "id": "t3WZitsSbznR"
      },
      "id": "t3WZitsSbznR"
    },
    {
      "cell_type": "code",
      "execution_count": null,
      "id": "fa97519f",
      "metadata": {
        "id": "fa97519f"
      },
      "outputs": [],
      "source": [
        "num = 20\n",
        "if num == 20:\n",
        "    print('the number is 20')\n",
        "else:\n",
        "    print('the number is not 20')"
      ]
    },
    {
      "cell_type": "code",
      "execution_count": null,
      "id": "f0d749d6",
      "metadata": {
        "id": "f0d749d6"
      },
      "outputs": [],
      "source": [
        "num=21\n",
        "if num==20:\n",
        "    print(\"the number is 20\")\n",
        "elif num>20:\n",
        "    print (\"the number is greater than 20\")\n",
        "else:\n",
        "    print(\"the number is less than 20\")"
      ]
    },
    {
      "cell_type": "code",
      "execution_count": null,
      "id": "e41e68ae",
      "metadata": {
        "id": "e41e68ae"
      },
      "outputs": [],
      "source": [
        "colors=(\"red\",\"blue\",\"green\")"
      ]
    },
    {
      "cell_type": "code",
      "execution_count": null,
      "id": "d62e8cc2",
      "metadata": {
        "id": "d62e8cc2"
      },
      "outputs": [],
      "source": [
        "colors"
      ]
    },
    {
      "cell_type": "code",
      "execution_count": null,
      "id": "6259a981",
      "metadata": {
        "id": "6259a981"
      },
      "outputs": [],
      "source": [
        "for favorite in colors:\n",
        "    print (\"I love \" + favorite)"
      ]
    },
    {
      "cell_type": "code",
      "execution_count": null,
      "id": "8e6bb77d",
      "metadata": {
        "id": "8e6bb77d"
      },
      "outputs": [],
      "source": [
        "num=1\n",
        "num"
      ]
    },
    {
      "cell_type": "code",
      "execution_count": null,
      "id": "ba08ebf3",
      "metadata": {
        "id": "ba08ebf3"
      },
      "outputs": [],
      "source": [
        "while num<=5:\n",
        "    print(num)\n",
        "    num+=1"
      ]
    },
    {
      "cell_type": "markdown",
      "source": [
        "## FUNCTION DEFINITION"
      ],
      "metadata": {
        "id": "2O-bmdBycBXc"
      },
      "id": "2O-bmdBycBXc"
    },
    {
      "cell_type": "code",
      "execution_count": null,
      "id": "92a9d3a7",
      "metadata": {
        "id": "92a9d3a7"
      },
      "outputs": [],
      "source": [
        "def multiply (num1, num2):\n",
        "    return num1*num2"
      ]
    },
    {
      "cell_type": "code",
      "execution_count": null,
      "id": "3e986418",
      "metadata": {
        "id": "3e986418"
      },
      "outputs": [],
      "source": [
        "multiply(2,2)"
      ]
    },
    {
      "cell_type": "code",
      "execution_count": null,
      "id": "602feb62",
      "metadata": {
        "id": "602feb62"
      },
      "outputs": [],
      "source": [
        "def multiply(num1, num2=10):\n",
        "    return num1*num2"
      ]
    },
    {
      "cell_type": "code",
      "execution_count": null,
      "id": "a4a1e362",
      "metadata": {
        "id": "a4a1e362"
      },
      "outputs": [],
      "source": [
        "multiply(2)"
      ]
    }
  ],
  "metadata": {
    "kernelspec": {
      "display_name": "Python 3",
      "language": "python",
      "name": "python3"
    },
    "language_info": {
      "codemirror_mode": {
        "name": "ipython",
        "version": 3
      },
      "file_extension": ".py",
      "mimetype": "text/x-python",
      "name": "python",
      "nbconvert_exporter": "python",
      "pygments_lexer": "ipython3",
      "version": "3.8.8"
    },
    "colab": {
      "provenance": []
    }
  },
  "nbformat": 4,
  "nbformat_minor": 5
}